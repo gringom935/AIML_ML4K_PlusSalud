{
 "cells": [
  {
   "cell_type": "markdown",
   "id": "c37cdf47",
   "metadata": {},
   "source": [
    "# Ejecución de chatbot AIML desde Jupyter Notebook"
   ]
  },
  {
   "cell_type": "markdown",
   "id": "f6a30468",
   "metadata": {},
   "source": [
    "Se instala programy, que es una implementación completa del estándar AIML"
   ]
  },
  {
   "cell_type": "code",
   "execution_count": null,
   "id": "e0ddb1e9",
   "metadata": {},
   "outputs": [],
   "source": [
    "%pip install programy"
   ]
  },
  {
   "cell_type": "markdown",
   "id": "ab252137",
   "metadata": {},
   "source": [
    "Utilizaremos EmbeddedDataFileBot, un bot que permite cargar la base de conocimiento desde archivos AIML externos"
   ]
  },
  {
   "cell_type": "code",
   "execution_count": 4,
   "id": "53dd6c6a",
   "metadata": {},
   "outputs": [],
   "source": [
    "from programy.clients.embed.datafile import EmbeddedDataFileBot"
   ]
  },
  {
   "cell_type": "markdown",
   "id": "bc2387c3",
   "metadata": {},
   "source": [
    "En el argumento 'files' del constructor se indica el nombre del directorio donde están los archivos con extensión .aiml que va a cargar"
   ]
  },
  {
   "cell_type": "code",
   "execution_count": 5,
   "id": "5c9f94fc",
   "metadata": {},
   "outputs": [],
   "source": [
    "chatbot = EmbeddedDataFileBot(files={'aiml':['/home/gloria/Escritorio/PIA/PandoraBots_AIML/plussalud']}, defaults=True)"
   ]
  },
  {
   "cell_type": "markdown",
   "id": "64110940",
   "metadata": {},
   "source": [
    "Generamos un bucle infinito que va imprimiendo las respuestas que devuelve nuestro bot a los mensajes que el usuario escriba por la entrada estándar"
   ]
  },
  {
   "cell_type": "code",
   "execution_count": 3,
   "id": "444b0d90",
   "metadata": {},
   "outputs": [],
   "source": [
    "try:\n",
    "    while True:\n",
    "        print (chatbot.ask_question(input('>')))\n",
    "except:\n",
    "    pass"
   ]
  },
  {
   "cell_type": "code",
   "execution_count": 9,
   "id": "328f485c",
   "metadata": {},
   "outputs": [],
   "source": [
    "import requests\n",
    "\n",
    "# This function will pass your text to the machine learning model\n",
    "# and return the top result with the highest confidence\n",
    "def classify(text):\n",
    "    key = \"e7da0140-789f-11ec-b3ad-f98a9cb0eee67e251167-3a2e-4cc1-bd6d-b45e28fd83bf\"\n",
    "    url = \"https://machinelearningforkids.co.uk/api/scratch/\"+ key + \"/classify\"\n",
    "\n",
    "    response = requests.get(url, params={ \"data\" : text })\n",
    "\n",
    "    if response.ok:\n",
    "        responseData = response.json()\n",
    "        topMatch = responseData[0]\n",
    "        return topMatch\n",
    "    else:\n",
    "        response.raise_for_status()\n",
    "\n",
    "def answer_question():\n",
    "    question = input(\"> \")\n",
    "    answer = classify(question)\n",
    "    answerclass = answer[\"class_name\"]\n",
    "    confidence = answer[\"confidence\"]\n",
    "    \n",
    "\n",
    "    if confidence < 75:\n",
    "        print(\"No te entiendo bien, pregúntame de otra manera.\")\n",
    "    else:\n",
    "        print(chatbot.ask_question(answerclass))\n"
   ]
  },
  {
   "cell_type": "code",
   "execution_count": null,
   "id": "b78fc692",
   "metadata": {},
   "outputs": [],
   "source": []
  }
 ],
 "metadata": {
  "kernelspec": {
   "display_name": "Python 3 (ipykernel)",
   "language": "python",
   "name": "python3"
  },
  "language_info": {
   "codemirror_mode": {
    "name": "ipython",
    "version": 3
   },
   "file_extension": ".py",
   "mimetype": "text/x-python",
   "name": "python",
   "nbconvert_exporter": "python",
   "pygments_lexer": "ipython3",
   "version": "3.9.7"
  }
 },
 "nbformat": 4,
 "nbformat_minor": 5
}
