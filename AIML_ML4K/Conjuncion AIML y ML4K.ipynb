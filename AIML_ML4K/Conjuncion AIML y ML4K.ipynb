{
 "cells": [
  {
   "cell_type": "markdown",
   "id": "21436429",
   "metadata": {},
   "source": [
    "## Esto es una prueba de integración entre el chatbot de ML4K y el de AIML aún en desarrollo"
   ]
  },
  {
   "cell_type": "code",
   "execution_count": null,
   "id": "beb9860a",
   "metadata": {},
   "outputs": [],
   "source": [
    "import requests\n",
    "\n",
    "from programy.clients.embed.datafile import EmbeddedDataFileBot\n",
    "chatbot = EmbeddedDataFileBot(files={'aiml':['/home/gloria/Escritorio/PIA/PandoraBots_AIML/plussalud']}, defaults=True)\n",
    "\n",
    "# This function will pass your text to the machine learning model\n",
    "# and return the top result with the highest confidence\n",
    "def classify(text):\n",
    "    key = \"e7da0140-789f-11ec-b3ad-f98a9cb0eee67e251167-3a2e-4cc1-bd6d-b45e28fd83bf\"\n",
    "    url = \"https://machinelearningforkids.co.uk/api/scratch/\"+ key + \"/classify\"\n",
    "\n",
    "    response = requests.get(url, params={ \"data\" : text })\n",
    "\n",
    "    if response.ok:\n",
    "        responseData = response.json()\n",
    "        topMatch = responseData[0]\n",
    "        return topMatch\n",
    "    else:\n",
    "        response.raise_for_status()\n",
    "\n",
    "def answer_question():\n",
    "    question = input(\"> \")\n",
    "    answer = classify(question)\n",
    "    answerclass = answer[\"class_name\"]\n",
    "    confidence = answer[\"confidence\"]\n",
    "    \n",
    "    print(\"El bot ha detectado tu intención: \" + answerclass)\n",
    "\n",
    "    if confidence < 75:\n",
    "        print(\"No te entiendo bien, pregúntame de otra manera.\")\n",
    "    else:\n",
    "        print(chatbot.ask_question(answerclass))\n",
    "\n",
    "answer_question()\n",
    "        \n",
    "try:\n",
    "    while True:\n",
    "        print (chatbot.ask_question(input('>')))\n",
    "except:\n",
    "    pass"
   ]
  }
 ],
 "metadata": {
  "kernelspec": {
   "display_name": "Python 3 (ipykernel)",
   "language": "python",
   "name": "python3"
  },
  "language_info": {
   "codemirror_mode": {
    "name": "ipython",
    "version": 3
   },
   "file_extension": ".py",
   "mimetype": "text/x-python",
   "name": "python",
   "nbconvert_exporter": "python",
   "pygments_lexer": "ipython3",
   "version": "3.9.7"
  }
 },
 "nbformat": 4,
 "nbformat_minor": 5
}
