{
 "cells": [
  {
   "cell_type": "code",
   "execution_count": null,
   "id": "c2e92351",
   "metadata": {},
   "outputs": [],
   "source": [
    "import requests\n",
    "\n",
    "# This function will pass your text to the machine learning model\n",
    "# and return the top result with the highest confidence\n",
    "def classify(text):\n",
    "    key = \"e7da0140-789f-11ec-b3ad-f98a9cb0eee67e251167-3a2e-4cc1-bd6d-b45e28fd83bf\"\n",
    "    url = \"https://machinelearningforkids.co.uk/api/scratch/\"+ key + \"/classify\"\n",
    "\n",
    "    response = requests.get(url, params={ \"data\" : text })\n",
    "\n",
    "    if response.ok:\n",
    "        responseData = response.json()\n",
    "        topMatch = responseData[0]\n",
    "        return topMatch\n",
    "    else:\n",
    "        response.raise_for_status()\n",
    "\n",
    "def answer_question():\n",
    "    question = input(\"> \")\n",
    "    answer = classify(question)\n",
    "    answerclass = answer[\"class_name\"]\n",
    "    confidence = answer[\"confidence\"]\n",
    "    \n",
    "    if confidence < 75:\n",
    "        print(\"No te entiendo bien, pregúntame de otra manera.\")\n",
    "    elif answerclass == \"ninio\":\n",
    "        print(\"niño\")\n",
    "    elif answerclass == \"mujer\":\n",
    "        print(\"mujer\")\n",
    "    elif answerclass == \"hombre\":\n",
    "        print(\"hombre\")\n",
    "    \n",
    "\n",
    "print(\"¿Para quién desea realizar su consulta médica?\")\n",
    "\n",
    "while True:\n",
    "    answer_question()"
   ]
  },
  {
   "cell_type": "code",
   "execution_count": 1,
   "id": "a11e38cc",
   "metadata": {},
   "outputs": [
    {
     "ename": "SyntaxError",
     "evalue": "invalid syntax (2805155286.py, line 26)",
     "output_type": "error",
     "traceback": [
      "\u001b[0;36m  File \u001b[0;32m\"/tmp/ipykernel_2413/2805155286.py\"\u001b[0;36m, line \u001b[0;32m26\u001b[0m\n\u001b[0;31m    else\u001b[0m\n\u001b[0m        ^\u001b[0m\n\u001b[0;31mSyntaxError\u001b[0m\u001b[0;31m:\u001b[0m invalid syntax\n"
     ]
    }
   ],
   "source": [
    "import requests\n",
    "\n",
    "# This function will pass your text to the machine learning model\n",
    "# and return the top result with the highest confidence\n",
    "def classify(text):\n",
    "    key = \"e7da0140-789f-11ec-b3ad-f98a9cb0eee67e251167-3a2e-4cc1-bd6d-b45e28fd83bf\"\n",
    "    url = \"https://machinelearningforkids.co.uk/api/scratch/\"+ key + \"/classify\"\n",
    "\n",
    "    response = requests.get(url, params={ \"data\" : text })\n",
    "\n",
    "    if response.ok:\n",
    "        responseData = response.json()\n",
    "        topMatch = responseData[0]\n",
    "        return topMatch\n",
    "    else:\n",
    "        response.raise_for_status()\n",
    "\n",
    "def answer_question():\n",
    "    question = input(\"> \")\n",
    "    answer = classify(question)\n",
    "    answerclass = answer[\"class_name\"]\n",
    "    confidence = answer[\"confidence\"]\n",
    "    \n",
    "    if confidence < 75:\n",
    "        print(\"No te entiendo bien, pregúntame de otra manera.\")\n",
    "    else\n",
    "        print(chatbot.ask_question(answerclass))"
   ]
  },
  {
   "cell_type": "code",
   "execution_count": null,
   "id": "44583d16",
   "metadata": {},
   "outputs": [],
   "source": []
  }
 ],
 "metadata": {
  "kernelspec": {
   "display_name": "Python 3 (ipykernel)",
   "language": "python",
   "name": "python3"
  },
  "language_info": {
   "codemirror_mode": {
    "name": "ipython",
    "version": 3
   },
   "file_extension": ".py",
   "mimetype": "text/x-python",
   "name": "python",
   "nbconvert_exporter": "python",
   "pygments_lexer": "ipython3",
   "version": "3.9.7"
  }
 },
 "nbformat": 4,
 "nbformat_minor": 5
}
